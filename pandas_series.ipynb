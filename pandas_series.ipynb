{
 "cells": [
  {
   "cell_type": "code",
   "execution_count": 1,
   "id": "4aad95da",
   "metadata": {},
   "outputs": [],
   "source": [
    "import numpy as np\n",
    "import pandas as pd\n",
    "import matplotlib.pyplot as plt\n",
    "import mason_functions as mf"
   ]
  },
  {
   "cell_type": "markdown",
   "id": "8b3d751e",
   "metadata": {},
   "source": [
    "## Exercises Part I"
   ]
  },
  {
   "cell_type": "code",
   "execution_count": 2,
   "id": "4c020cce",
   "metadata": {},
   "outputs": [],
   "source": [
    "fruits = pd.Series([\"kiwi\", \"mango\", \"strawberry\", \"pineapple\", \"gala apple\", \"honeycrisp apple\", \"tomato\", \"watermelon\", \"honeydew\", \"kiwi\", \"kiwi\", \"kiwi\", \"mango\", \"blueberry\", \"blackberry\", \"gooseberry\", \"papaya\"])"
   ]
  },
  {
   "cell_type": "code",
   "execution_count": 3,
   "id": "c2bcaf62",
   "metadata": {},
   "outputs": [
    {
     "data": {
      "text/plain": [
       "17"
      ]
     },
     "execution_count": 3,
     "metadata": {},
     "output_type": "execute_result"
    }
   ],
   "source": [
    "#Exercise 1 Determine the number of elements in fruits.\n",
    "fruits.size"
   ]
  },
  {
   "cell_type": "code",
   "execution_count": 4,
   "id": "a59ff97d",
   "metadata": {},
   "outputs": [
    {
     "data": {
      "text/plain": [
       "RangeIndex(start=0, stop=17, step=1)"
      ]
     },
     "execution_count": 4,
     "metadata": {},
     "output_type": "execute_result"
    }
   ],
   "source": [
    "#Exercise 2 Output only the index from fruits.\n",
    "fruits.index"
   ]
  },
  {
   "cell_type": "code",
   "execution_count": 5,
   "id": "e72c8670",
   "metadata": {},
   "outputs": [
    {
     "data": {
      "text/plain": [
       "array(['kiwi', 'mango', 'strawberry', 'pineapple', 'gala apple',\n",
       "       'honeycrisp apple', 'tomato', 'watermelon', 'honeydew', 'kiwi',\n",
       "       'kiwi', 'kiwi', 'mango', 'blueberry', 'blackberry', 'gooseberry',\n",
       "       'papaya'], dtype=object)"
      ]
     },
     "execution_count": 5,
     "metadata": {},
     "output_type": "execute_result"
    }
   ],
   "source": [
    "#Exercise 3 Output only the values from fruits.\n",
    "fruits.values"
   ]
  },
  {
   "cell_type": "code",
   "execution_count": 6,
   "id": "cf248781",
   "metadata": {},
   "outputs": [
    {
     "data": {
      "text/plain": [
       "dtype('O')"
      ]
     },
     "execution_count": 6,
     "metadata": {},
     "output_type": "execute_result"
    }
   ],
   "source": [
    "#Exercise 4 Confirm the data type of the values in fruits.\n",
    "fruits.dtype"
   ]
  },
  {
   "cell_type": "code",
   "execution_count": 7,
   "id": "2f8f32c1",
   "metadata": {},
   "outputs": [
    {
     "data": {
      "text/plain": [
       "14    blackberry\n",
       "13     blueberry\n",
       "dtype: object"
      ]
     },
     "execution_count": 7,
     "metadata": {},
     "output_type": "execute_result"
    }
   ],
   "source": [
    "#Exercise 5 \n",
    "#Output only the first five values from fruits. \n",
    "#Output the last three values. \n",
    "#Output two random values from fruits.\n",
    "fruits.head()\n",
    "fruits.tail(3)\n",
    "fruits.sample(2)"
   ]
  },
  {
   "cell_type": "code",
   "execution_count": 8,
   "id": "ce1538b5",
   "metadata": {},
   "outputs": [
    {
     "data": {
      "text/plain": [
       "count       17\n",
       "unique      13\n",
       "top       kiwi\n",
       "freq         4\n",
       "dtype: object"
      ]
     },
     "execution_count": 8,
     "metadata": {},
     "output_type": "execute_result"
    }
   ],
   "source": [
    "#Exercise 6 \n",
    "#Run the .describe() on fruits to see what information it returns when called on a Series with string values.\n",
    "fruits.describe()"
   ]
  },
  {
   "cell_type": "code",
   "execution_count": 9,
   "id": "68b3c0c3",
   "metadata": {},
   "outputs": [
    {
     "data": {
      "text/plain": [
       "array(['kiwi', 'mango', 'strawberry', 'pineapple', 'gala apple',\n",
       "       'honeycrisp apple', 'tomato', 'watermelon', 'honeydew',\n",
       "       'blueberry', 'blackberry', 'gooseberry', 'papaya'], dtype=object)"
      ]
     },
     "execution_count": 9,
     "metadata": {},
     "output_type": "execute_result"
    }
   ],
   "source": [
    "#Exercise 7 Run the code necessary to produce only the unique string values from fruits.\n",
    "fruits.unique()"
   ]
  },
  {
   "cell_type": "code",
   "execution_count": 10,
   "id": "515cc115",
   "metadata": {},
   "outputs": [
    {
     "data": {
      "text/plain": [
       "13"
      ]
     },
     "execution_count": 10,
     "metadata": {},
     "output_type": "execute_result"
    }
   ],
   "source": [
    "#Exercise 8 Determine how many times each unique string value occurs in fruits.\n",
    "fruits.nunique()"
   ]
  },
  {
   "cell_type": "code",
   "execution_count": 11,
   "id": "f8d2310f",
   "metadata": {},
   "outputs": [
    {
     "data": {
      "text/plain": [
       "kiwi    4\n",
       "dtype: int64"
      ]
     },
     "execution_count": 11,
     "metadata": {},
     "output_type": "execute_result"
    }
   ],
   "source": [
    "#Exercise 9 Determine the string value that occurs most frequently in fruits.\n",
    "fruits.value_counts().idxmax()\n",
    "\n",
    "#all max ids\n",
    "fruits.value_counts().nlargest(n = 1, keep = 'all')"
   ]
  },
  {
   "cell_type": "code",
   "execution_count": 12,
   "id": "582d99f4",
   "metadata": {},
   "outputs": [
    {
     "data": {
      "text/plain": [
       "strawberry          1\n",
       "blackberry          1\n",
       "honeydew            1\n",
       "gooseberry          1\n",
       "honeycrisp apple    1\n",
       "watermelon          1\n",
       "papaya              1\n",
       "blueberry           1\n",
       "gala apple          1\n",
       "tomato              1\n",
       "pineapple           1\n",
       "dtype: int64"
      ]
     },
     "execution_count": 12,
     "metadata": {},
     "output_type": "execute_result"
    }
   ],
   "source": [
    "#Exercise 10 Determine the string value that occurs least frequently in fruits.\n",
    "#all min ids\n",
    "fruits.value_counts().nsmallest(n = 1, keep = 'all')"
   ]
  },
  {
   "cell_type": "markdown",
   "id": "398fff75",
   "metadata": {},
   "source": [
    "# Exercises Part II"
   ]
  },
  {
   "cell_type": "code",
   "execution_count": 13,
   "id": "0a9e2bb8",
   "metadata": {},
   "outputs": [
    {
     "data": {
      "text/plain": [
       "0                 Kiwi\n",
       "1                Mango\n",
       "2           Strawberry\n",
       "3            Pineapple\n",
       "4           Gala apple\n",
       "5     Honeycrisp apple\n",
       "6               Tomato\n",
       "7           Watermelon\n",
       "8             Honeydew\n",
       "9                 Kiwi\n",
       "10                Kiwi\n",
       "11                Kiwi\n",
       "12               Mango\n",
       "13           Blueberry\n",
       "14          Blackberry\n",
       "15          Gooseberry\n",
       "16              Papaya\n",
       "dtype: object"
      ]
     },
     "execution_count": 13,
     "metadata": {},
     "output_type": "execute_result"
    }
   ],
   "source": [
    "#Exercise I Capitalize all the string values in fruits.\n",
    "fruits.str.capitalize()"
   ]
  },
  {
   "cell_type": "code",
   "execution_count": 14,
   "id": "0a3efe8e",
   "metadata": {},
   "outputs": [
    {
     "data": {
      "text/plain": [
       "0     0\n",
       "1     1\n",
       "2     1\n",
       "3     1\n",
       "4     3\n",
       "5     1\n",
       "6     1\n",
       "7     1\n",
       "8     0\n",
       "9     0\n",
       "10    0\n",
       "11    0\n",
       "12    1\n",
       "13    0\n",
       "14    1\n",
       "15    0\n",
       "16    3\n",
       "dtype: int64"
      ]
     },
     "execution_count": 14,
     "metadata": {},
     "output_type": "execute_result"
    }
   ],
   "source": [
    "#Exercise II Count the letter \"a\" in all the string values (use string vectorization).\n",
    "fruits.str.count('a')"
   ]
  },
  {
   "cell_type": "code",
   "execution_count": 15,
   "id": "5048fcc4",
   "metadata": {},
   "outputs": [
    {
     "data": {
      "text/plain": [
       "0     2\n",
       "1     2\n",
       "2     2\n",
       "3     4\n",
       "4     4\n",
       "5     5\n",
       "6     3\n",
       "7     4\n",
       "8     3\n",
       "9     2\n",
       "10    2\n",
       "11    2\n",
       "12    2\n",
       "13    3\n",
       "14    2\n",
       "15    4\n",
       "16    3\n",
       "dtype: int64"
      ]
     },
     "execution_count": 15,
     "metadata": {},
     "output_type": "execute_result"
    }
   ],
   "source": [
    "#Exercise III Output the number of vowels in each and every string value.\n",
    "fruits.apply(mf.count_vowels)"
   ]
  },
  {
   "cell_type": "code",
   "execution_count": 16,
   "id": "ab4ea8ea",
   "metadata": {},
   "outputs": [
    {
     "data": {
      "text/plain": [
       "'honeycrisp apple'"
      ]
     },
     "execution_count": 16,
     "metadata": {},
     "output_type": "execute_result"
    }
   ],
   "source": [
    "#Exercise IV Write the code to get the longest string value from fruits.\n",
    "max(fruits, key = len)"
   ]
  },
  {
   "cell_type": "code",
   "execution_count": 17,
   "id": "df4b9f3e",
   "metadata": {},
   "outputs": [
    {
     "data": {
      "text/plain": [
       "1                mango\n",
       "2           strawberry\n",
       "3            pineapple\n",
       "4           gala apple\n",
       "5     honeycrisp apple\n",
       "6               tomato\n",
       "7           watermelon\n",
       "8             honeydew\n",
       "12               mango\n",
       "13           blueberry\n",
       "14          blackberry\n",
       "15          gooseberry\n",
       "16              papaya\n",
       "dtype: object"
      ]
     },
     "execution_count": 17,
     "metadata": {},
     "output_type": "execute_result"
    }
   ],
   "source": [
    "#Exercise V Write the code to get the string values with 5 or more letters in the name.\n",
    "fruits[fruits.apply(lambda fruit: len(fruit) > 4)]"
   ]
  },
  {
   "cell_type": "code",
   "execution_count": 18,
   "id": "f8685815",
   "metadata": {},
   "outputs": [
    {
     "data": {
      "text/plain": [
       "6         tomato\n",
       "15    gooseberry\n",
       "dtype: object"
      ]
     },
     "execution_count": 18,
     "metadata": {},
     "output_type": "execute_result"
    }
   ],
   "source": [
    "#Exercise VI \n",
    "#Use the .apply method with a lambda function to find the fruit(s) containing the letter \"o\" two or more times.\n",
    "fruits[fruits.apply(lambda fruit: fruit.count('o') > 1)]"
   ]
  },
  {
   "cell_type": "code",
   "execution_count": 19,
   "id": "9ece160d",
   "metadata": {},
   "outputs": [
    {
     "data": {
      "text/plain": [
       "2     strawberry\n",
       "13     blueberry\n",
       "14    blackberry\n",
       "15    gooseberry\n",
       "dtype: object"
      ]
     },
     "execution_count": 19,
     "metadata": {},
     "output_type": "execute_result"
    }
   ],
   "source": [
    "#Exercise VII Write the code to get only the string values containing the substring \"berry\".\n",
    "fruits[fruits.str.contains('berry')]"
   ]
  },
  {
   "cell_type": "code",
   "execution_count": 20,
   "id": "d5185d05",
   "metadata": {},
   "outputs": [
    {
     "data": {
      "text/plain": [
       "3           pineapple\n",
       "4          gala apple\n",
       "5    honeycrisp apple\n",
       "dtype: object"
      ]
     },
     "execution_count": 20,
     "metadata": {},
     "output_type": "execute_result"
    }
   ],
   "source": [
    "#Exercise VIII Write the code to get only the string values containing the substring \"apple\".\n",
    "fruits[fruits.str.contains('apple')]"
   ]
  },
  {
   "cell_type": "code",
   "execution_count": 21,
   "id": "4b3498db",
   "metadata": {},
   "outputs": [
    {
     "data": {
      "text/plain": [
       "'honeycrisp apple'"
      ]
     },
     "execution_count": 21,
     "metadata": {},
     "output_type": "execute_result"
    }
   ],
   "source": [
    "#Exercise IX Which string value contains the most vowels?\n",
    "max(fruits, key = mf.count_vowels)"
   ]
  },
  {
   "cell_type": "markdown",
   "id": "5e5e521f",
   "metadata": {},
   "source": [
    "# Exercises Part III"
   ]
  },
  {
   "cell_type": "code",
   "execution_count": 22,
   "id": "7b327c2b",
   "metadata": {},
   "outputs": [],
   "source": [
    "#A\n",
    "\n",
    "letters = pd.Series(list('hnvidduckkqxwymbimkccexbkmqygkxoyndmcxnwqarhyffsjpsrabtjzsypmzadfavyrnndndvswreauxovncxtwzpwejilzjrmmbbgbyxvjtewqthafnbkqplarokkyydtubbmnexoypulzwfhqvckdpqtpoppzqrmcvhhpwgjwupgzhiofohawytlsiyecuproguy'))"
   ]
  },
  {
   "cell_type": "code",
   "execution_count": 23,
   "id": "f5150ee8",
   "metadata": {},
   "outputs": [
    {
     "data": {
      "text/plain": [
       "y    13\n",
       "dtype: int64"
      ]
     },
     "execution_count": 23,
     "metadata": {},
     "output_type": "execute_result"
    }
   ],
   "source": [
    "#Exercise AI Which letter occurs the most frequently in the letters Series?\n",
    "letters.value_counts().nlargest(n = 1, keep = 'all')"
   ]
  },
  {
   "cell_type": "code",
   "execution_count": 24,
   "id": "62e80b1a",
   "metadata": {},
   "outputs": [
    {
     "data": {
      "text/plain": [
       "l    4\n",
       "dtype: int64"
      ]
     },
     "execution_count": 24,
     "metadata": {},
     "output_type": "execute_result"
    }
   ],
   "source": [
    "#Exercise AII Which letter occurs the Least frequently?\n",
    "letters.value_counts().nsmallest(n = 1, keep = 'all')"
   ]
  },
  {
   "cell_type": "code",
   "execution_count": 25,
   "id": "d651bce0",
   "metadata": {},
   "outputs": [
    {
     "data": {
      "text/plain": [
       "34"
      ]
     },
     "execution_count": 25,
     "metadata": {},
     "output_type": "execute_result"
    }
   ],
   "source": [
    "#Exercise AIII How many vowels are in the Series?\n",
    "mf.count_vowels(letters)"
   ]
  },
  {
   "cell_type": "code",
   "execution_count": 26,
   "id": "f7b73bd0",
   "metadata": {},
   "outputs": [
    {
     "data": {
      "text/plain": [
       "166"
      ]
     },
     "execution_count": 26,
     "metadata": {},
     "output_type": "execute_result"
    }
   ],
   "source": [
    "#Exercise AIV How many consonants are in the Series?\n",
    "mf.count_consonants(letters)"
   ]
  },
  {
   "cell_type": "code",
   "execution_count": 27,
   "id": "f4695719",
   "metadata": {},
   "outputs": [
    {
     "data": {
      "text/plain": [
       "0      H\n",
       "1      N\n",
       "2      V\n",
       "3      I\n",
       "4      D\n",
       "      ..\n",
       "195    R\n",
       "196    O\n",
       "197    G\n",
       "198    U\n",
       "199    Y\n",
       "Length: 200, dtype: object"
      ]
     },
     "execution_count": 27,
     "metadata": {},
     "output_type": "execute_result"
    }
   ],
   "source": [
    "#Exercise AV Create a Series that has all of the same letters but uppercased.\n",
    "uppercased = letters.str.upper()\n",
    "uppercased"
   ]
  },
  {
   "cell_type": "code",
   "execution_count": 28,
   "id": "5f7f7418",
   "metadata": {},
   "outputs": [
    {
     "data": {
      "image/png": "[encoded data removed]",
      "text/plain": [
       "<Figure size 432x288 with 1 Axes>"
      ]
     },
     "metadata": {
      "needs_background": "light"
     },
     "output_type": "display_data"
    }
   ],
   "source": [
    "#Exercise AVI Create a bar plot of the frequencies of the 6 most commonly occuring letters.\n",
    "letters.value_counts(normalize = True).nlargest(n = 6, keep = 'first').plot.bar(color = 'm',\n",
    "                                                                ec = 'k',\n",
    "                                                               width = .9)\n",
    "plt.xlabel('Alphabetical Frequenter', fontsize = 13, c = 'm')\n",
    "plt.ylabel('Frequency', fontsize = 13, c = 'm')\n",
    "plt.title('Letters Frequency', fontsize = 16, c = 'r')\n",
    "plt.xticks(rotation = 0);"
   ]
  },
  {
   "cell_type": "code",
   "execution_count": 29,
   "id": "97c1c113",
   "metadata": {},
   "outputs": [],
   "source": [
    "#B\n",
    "\n",
    "\n",
    "numbers = pd.Series(['$796,459.41', '$278.60', '$482,571.67', '$4,503,915.98', '$2,121,418.3', '$1,260,813.3', '$87,231.01', '$1,509,175.45', '$4,138,548.00', '$2,848,913.80', '$594,715.39', '$4,789,988.17', '$4,513,644.5', '$3,191,059.97', '$1,758,712.24', '$4,338,283.54', '$4,738,303.38', '$2,791,759.67', '$769,681.94', '$452,650.23'])"
   ]
  },
  {
   "cell_type": "code",
   "execution_count": 30,
   "id": "1b3e3482",
   "metadata": {},
   "outputs": [
    {
     "data": {
      "text/plain": [
       "dtype('O')"
      ]
     },
     "execution_count": 30,
     "metadata": {},
     "output_type": "execute_result"
    }
   ],
   "source": [
    "#Exercise BI What is the data type of the numbers Series?\n",
    "numbers.dtype"
   ]
  },
  {
   "cell_type": "code",
   "execution_count": 31,
   "id": "b0ea5984",
   "metadata": {},
   "outputs": [
    {
     "data": {
      "text/plain": [
       "20"
      ]
     },
     "execution_count": 31,
     "metadata": {},
     "output_type": "execute_result"
    }
   ],
   "source": [
    "#Exercise BII How many elements are in the number Series?\n",
    "numbers.size"
   ]
  },
  {
   "cell_type": "code",
   "execution_count": 32,
   "id": "76f61aab",
   "metadata": {},
   "outputs": [
    {
     "data": {
      "text/plain": [
       "0      796459.41\n",
       "1         278.60\n",
       "2      482571.67\n",
       "3     4503915.98\n",
       "4     2121418.30\n",
       "5     1260813.30\n",
       "6       87231.01\n",
       "7     1509175.45\n",
       "8     4138548.00\n",
       "9     2848913.80\n",
       "10     594715.39\n",
       "11    4789988.17\n",
       "12    4513644.50\n",
       "13    3191059.97\n",
       "14    1758712.24\n",
       "15    4338283.54\n",
       "16    4738303.38\n",
       "17    2791759.67\n",
       "18     769681.94\n",
       "19     452650.23\n",
       "dtype: float64"
      ]
     },
     "execution_count": 32,
     "metadata": {},
     "output_type": "execute_result"
    }
   ],
   "source": [
    "#Exercise BIII Perform the necessary manipulations by accessing Series attributes and methods to convert the\n",
    "#numbers Series to a numeric data type.\n",
    "\n",
    "numbers.apply(lambda x: mf.handle_commas(x))"
   ]
  },
  {
   "cell_type": "code",
   "execution_count": 33,
   "id": "9708a785",
   "metadata": {
    "scrolled": true
   },
   "outputs": [
    {
     "data": {
      "text/plain": [
       "'$4,789,988.17'"
      ]
     },
     "execution_count": 33,
     "metadata": {},
     "output_type": "execute_result"
    }
   ],
   "source": [
    "#Exercise BIV Run the code to discover the maximum value from the Series.\n",
    "max_number = max(numbers, key = lambda x: mf.handle_commas(x))\n",
    "max_number"
   ]
  },
  {
   "cell_type": "code",
   "execution_count": 34,
   "id": "5b404046",
   "metadata": {},
   "outputs": [
    {
     "data": {
      "text/plain": [
       "'$278.60'"
      ]
     },
     "execution_count": 34,
     "metadata": {},
     "output_type": "execute_result"
    }
   ],
   "source": [
    "#Exercise BV Run the code to discover the minimum value from the Series.\n",
    "min_number = min(numbers, key = lambda x: mf.handle_commas(x))\n",
    "min_number"
   ]
  },
  {
   "cell_type": "code",
   "execution_count": 35,
   "id": "4d89e7e7",
   "metadata": {},
   "outputs": [
    {
     "data": {
      "text/plain": [
       "4789709.57"
      ]
     },
     "execution_count": 35,
     "metadata": {},
     "output_type": "execute_result"
    }
   ],
   "source": [
    "#Exercise BVI What is the range of the values in the Series?\n",
    "mf.handle_commas(max_number) - mf.handle_commas(min_number)"
   ]
  },
  {
   "cell_type": "code",
   "execution_count": 36,
   "id": "0b895ed3",
   "metadata": {},
   "outputs": [
    {
     "data": {
      "text/plain": [
       "(-4511.111, 1197705.993]      7\n",
       "(3592560.778, 4789988.17]     6\n",
       "(1197705.993, 2395133.385]    4\n",
       "(2395133.385, 3592560.778]    3\n",
       "dtype: int64"
      ]
     },
     "execution_count": 36,
     "metadata": {},
     "output_type": "execute_result"
    }
   ],
   "source": [
    "#Exercise BVII Bin the data into 4 equally sized intervals or bins and output how many values fall into each bin.\n",
    "numbers.apply(lambda x: mf.handle_commas(x)).value_counts(bins = 4)"
   ]
  },
  {
   "cell_type": "code",
   "execution_count": 37,
   "id": "b77d4d5d",
   "metadata": {},
   "outputs": [
    {
     "data": {
      "image/png": "[encoded data removed]",
      "text/plain": [
       "<Figure size 792x504 with 1 Axes>"
      ]
     },
     "metadata": {
      "needs_background": "light"
     },
     "output_type": "display_data"
    }
   ],
   "source": [
    "#Exercise BVIII Plot the binned data in a meaningful way. Be sure to include a title and axis labels.\n",
    "plt.figure(figsize = (11, 7))\n",
    "numbers.apply(lambda x: mf.handle_commas(x)).value_counts(bins = 4).sort_index().plot.barh(width = .8)\n",
    "plt.title('We got bins', fontsize = 38)\n",
    "plt.ylabel('Bin range', fontsize = 27)\n",
    "plt.xlabel('Number of values in Bin', fontsize = 27)\n",
    "plt.yticks(fontsize = 15)\n",
    "plt.xticks(fontsize = 14);"
   ]
  },
  {
   "cell_type": "code",
   "execution_count": 38,
   "id": "a666a7e9",
   "metadata": {},
   "outputs": [
    {
     "data": {
      "text/plain": [
       "0     60\n",
       "1     86\n",
       "2     75\n",
       "3     62\n",
       "4     93\n",
       "5     71\n",
       "6     60\n",
       "7     83\n",
       "8     95\n",
       "9     78\n",
       "10    65\n",
       "11    72\n",
       "12    69\n",
       "13    81\n",
       "14    96\n",
       "15    80\n",
       "16    85\n",
       "17    92\n",
       "18    82\n",
       "19    78\n",
       "dtype: int64"
      ]
     },
     "execution_count": 38,
     "metadata": {},
     "output_type": "execute_result"
    }
   ],
   "source": [
    "#C\n",
    "\n",
    "\n",
    "exam_scores = pd.Series([60, 86, 75, 62, 93, 71, 60, 83, 95, 78, 65, 72, 69, 81, 96, 80, 85, 92, 82, 78])\n",
    "exam_scores"
   ]
  },
  {
   "cell_type": "code",
   "execution_count": 39,
   "id": "2084b84f",
   "metadata": {},
   "outputs": [
    {
     "data": {
      "text/plain": [
       "20"
      ]
     },
     "execution_count": 39,
     "metadata": {},
     "output_type": "execute_result"
    }
   ],
   "source": [
    "#Exercise CI How many elements are in the exam_scores Series?\n",
    "exam_scores.size"
   ]
  },
  {
   "cell_type": "code",
   "execution_count": 40,
   "id": "92663431",
   "metadata": {},
   "outputs": [
    {
     "name": "stdout",
     "output_type": "stream",
     "text": [
      "count    20.000000\n",
      "mean     78.150000\n",
      "std      11.352139\n",
      "min      60.000000\n",
      "25%      70.500000\n",
      "50%      79.000000\n",
      "75%      85.250000\n",
      "max      96.000000\n",
      "dtype: float64\n",
      "79.0\n"
     ]
    }
   ],
   "source": [
    "#Exercise CII Run the code to discover the minimum, the maximum, the mean, and the median scores for the\n",
    "#exam_scores Series.\n",
    "if __name__ == '__main__':\n",
    "    print(exam_scores.describe())\n",
    "    print(exam_scores.median())"
   ]
  },
  {
   "cell_type": "code",
   "execution_count": 41,
   "id": "07906e7a",
   "metadata": {},
   "outputs": [
    {
     "data": {
      "text/plain": [
       "0     60\n",
       "6     60\n",
       "3     62\n",
       "10    65\n",
       "12    69\n",
       "5     71\n",
       "11    72\n",
       "2     75\n",
       "9     78\n",
       "19    78\n",
       "15    80\n",
       "13    81\n",
       "18    82\n",
       "7     83\n",
       "16    85\n",
       "1     86\n",
       "17    92\n",
       "4     93\n",
       "8     95\n",
       "14    96\n",
       "dtype: int64"
      ]
     },
     "execution_count": 41,
     "metadata": {},
     "output_type": "execute_result"
    }
   ],
   "source": [
    "exam_scores.sort_values()"
   ]
  },
  {
   "cell_type": "code",
   "execution_count": 42,
   "id": "dbfaa941",
   "metadata": {},
   "outputs": [
    {
     "data": {
      "image/png": "[encoded data removed]",
      "text/plain": [
       "<Figure size 3672x2088 with 1 Axes>"
      ]
     },
     "metadata": {
      "needs_background": "light"
     },
     "output_type": "display_data"
    }
   ],
   "source": [
    "#Exercise CIII Plot the Series in a meaningful way and make sure your chart has a title and axis labels.\n",
    "plt.figure(figsize = (51, 29))\n",
    "exam_scores.sort_values().plot.barh(color = 'indigo', ec = 'cyan', width = .98)\n",
    "plt.title('Exam Scores', fontsize = 69)\n",
    "plt.xlabel('Score', fontsize = 44, c = 'indigo')\n",
    "plt.ylabel('Exam #/ Exam Participant #', fontsize = 44, c = 'gray')\n",
    "plt.xticks(range(101), fontsize = 19)\n",
    "plt.yticks(range(21), fontsize = 38);"
   ]
  },
  {
   "cell_type": "code",
   "execution_count": 43,
   "id": "04c1c1b7",
   "metadata": {},
   "outputs": [
    {
     "data": {
      "text/plain": [
       "0      64\n",
       "1      90\n",
       "2      79\n",
       "3      66\n",
       "4      97\n",
       "5      75\n",
       "6      64\n",
       "7      87\n",
       "8      99\n",
       "9      82\n",
       "10     69\n",
       "11     76\n",
       "12     73\n",
       "13     85\n",
       "14    100\n",
       "15     84\n",
       "16     89\n",
       "17     96\n",
       "18     86\n",
       "19     82\n",
       "dtype: int64"
      ]
     },
     "execution_count": 43,
     "metadata": {},
     "output_type": "execute_result"
    }
   ],
   "source": [
    "#Exercise CIV Write the code necessary to implement a curve for your exam_grades Series and save this \n",
    "#as curved_grades. Add the necessary points to the highest grade to make it 100, and add the same number of points\n",
    "#to every other score in the Series as well.\n",
    "\n",
    "curved_grades = exam_scores + 4\n",
    "curved_grades"
   ]
  },
  {
   "cell_type": "code",
   "execution_count": 44,
   "id": "93d98355",
   "metadata": {},
   "outputs": [
    {
     "data": {
      "text/plain": [
       "0     F\n",
       "1     A\n",
       "2     C\n",
       "3     D\n",
       "4     A\n",
       "5     C\n",
       "6     F\n",
       "7     B\n",
       "8     A\n",
       "9     B\n",
       "10    D\n",
       "11    C\n",
       "12    C\n",
       "13    B\n",
       "14    A\n",
       "15    B\n",
       "16    B\n",
       "17    A\n",
       "18    B\n",
       "19    B\n",
       "dtype: object"
      ]
     },
     "execution_count": 44,
     "metadata": {},
     "output_type": "execute_result"
    }
   ],
   "source": [
    "#Exercise CV Use a method to convert each of the numeric values in the curved_grades Series into a categorical \n",
    "#value of letter grades. For example, 86 should be a 'B' and 95 should be an 'A'. Save this as a Series named \n",
    "#letter_grades.\n",
    "\n",
    "letter_grades = curved_grades.apply(lambda x: mf.get_letter_grade(x))\n",
    "letter_grades"
   ]
  },
  {
   "cell_type": "code",
   "execution_count": 45,
   "id": "8595500f",
   "metadata": {},
   "outputs": [
    {
     "data": {
      "text/plain": [
       "Text(0, 0.5, 'Letter Grade')"
      ]
     },
     "execution_count": 45,
     "metadata": {},
     "output_type": "execute_result"
    },
    {
     "data": {
      "image/png": "[encoded data removed]",
      "text/plain": [
       "<Figure size 576x360 with 1 Axes>"
      ]
     },
     "metadata": {
      "needs_background": "light"
     },
     "output_type": "display_data"
    }
   ],
   "source": [
    "#Exercise CVI Plot your new categorical letter_grades Series in a meaninful way and include a title and axis labels.\n",
    "plt.figure(figsize = (8, 5))\n",
    "letter_grades.value_counts(ascending = True).plot.barh(color = 'purple', ec = 'k', width = .88)\n",
    "plt.title('Letter Grades', fontsize = 16, c = 'indigo')\n",
    "plt.xlabel('Quantity', fontsize = 13, c = 'm')\n",
    "plt.ylabel('Letter Grade', fontsize = 13, c = 'purple')"
   ]
  }
 ],
 "metadata": {
  "kernelspec": {
   "display_name": "Python 3",
   "language": "python",
   "name": "python3"
  },
  "language_info": {
   "codemirror_mode": {
    "name": "ipython",
    "version": 3
   },
   "file_extension": ".py",
   "mimetype": "text/x-python",
   "name": "python",
   "nbconvert_exporter": "python",
   "pygments_lexer": "ipython3",
   "version": "3.8.8"
  }
 },
 "nbformat": 4,
 "nbformat_minor": 5
}
