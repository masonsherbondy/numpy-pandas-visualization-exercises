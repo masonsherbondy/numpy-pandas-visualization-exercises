{
 "cells": [
  {
   "cell_type": "code",
   "execution_count": null,
   "id": "4aad95da",
   "metadata": {},
   "outputs": [],
   "source": [
    "import numpy as np\n",
    "import pandas as pd\n",
    "import matplotlib.pyplot as plt\n",
    "import mason_functions as mf"
   ]
  },
  {
   "cell_type": "markdown",
   "id": "8b3d751e",
   "metadata": {},
   "source": [
    "## Exercises Part I"
   ]
  },
  {
   "cell_type": "code",
   "execution_count": null,
   "id": "4c020cce",
   "metadata": {},
   "outputs": [],
   "source": [
    "fruits = pd.Series([\"kiwi\", \"mango\", \"strawberry\", \"pineapple\", \"gala apple\", \"honeycrisp apple\", \"tomato\", \"watermelon\", \"honeydew\", \"kiwi\", \"kiwi\", \"kiwi\", \"mango\", \"blueberry\", \"blackberry\", \"gooseberry\", \"papaya\"])"
   ]
  },
  {
   "cell_type": "code",
   "execution_count": null,
   "id": "c2bcaf62",
   "metadata": {},
   "outputs": [],
   "source": [
    "#Exercise 1 Determine the number of elements in fruits.\n",
    "fruits.size"
   ]
  },
  {
   "cell_type": "code",
   "execution_count": null,
   "id": "a59ff97d",
   "metadata": {},
   "outputs": [],
   "source": [
    "#Exercise 2 Output only the index from fruits.\n",
    "fruits.index"
   ]
  },
  {
   "cell_type": "code",
   "execution_count": null,
   "id": "e72c8670",
   "metadata": {},
   "outputs": [],
   "source": [
    "#Exercise 3 Output only the values from fruits.\n",
    "fruits.values"
   ]
  },
  {
   "cell_type": "code",
   "execution_count": null,
   "id": "cf248781",
   "metadata": {},
   "outputs": [],
   "source": [
    "#Exercise 4 Confirm the data type of the values in fruits.\n",
    "fruits.dtype"
   ]
  },
  {
   "cell_type": "code",
   "execution_count": null,
   "id": "2f8f32c1",
   "metadata": {},
   "outputs": [],
   "source": [
    "#Exercise 5 \n",
    "#Output only the first five values from fruits. \n",
    "#Output the last three values. \n",
    "#Output two random values from fruits.\n",
    "fruits.head()\n",
    "fruits.tail(3)\n",
    "fruits.sample(2)"
   ]
  },
  {
   "cell_type": "code",
   "execution_count": null,
   "id": "ce1538b5",
   "metadata": {},
   "outputs": [],
   "source": [
    "#Exercise 6 \n",
    "#Run the .describe() on fruits to see what information it returns when called on a Series with string values.\n",
    "fruits.describe()"
   ]
  },
  {
   "cell_type": "code",
   "execution_count": null,
   "id": "68b3c0c3",
   "metadata": {},
   "outputs": [],
   "source": [
    "#Exercise 7 Run the code necessary to produce only the unique string values from fruits.\n",
    "fruits.unique()"
   ]
  },
  {
   "cell_type": "code",
   "execution_count": null,
   "id": "515cc115",
   "metadata": {},
   "outputs": [],
   "source": [
    "#Exercise 8 Determine how many times each unique string value occurs in fruits.\n",
    "fruits.nunique()"
   ]
  },
  {
   "cell_type": "code",
   "execution_count": null,
   "id": "f8d2310f",
   "metadata": {},
   "outputs": [],
   "source": [
    "#Exercise 9 Determine the string value that occurs most frequently in fruits.\n",
    "fruits.value_counts().idxmax()\n",
    "\n",
    "#all max ids\n",
    "fruits.value_counts().nlargest(n = 1, keep = 'all')"
   ]
  },
  {
   "cell_type": "code",
   "execution_count": null,
   "id": "582d99f4",
   "metadata": {},
   "outputs": [],
   "source": [
    "#Exercise 10 Determine the string value that occurs least frequently in fruits.\n",
    "#all min ids\n",
    "fruits.value_counts().nsmallest(n = 1, keep = 'all')"
   ]
  },
  {
   "cell_type": "markdown",
   "id": "398fff75",
   "metadata": {},
   "source": [
    "# Exercises Part II"
   ]
  },
  {
   "cell_type": "code",
   "execution_count": null,
   "id": "0a9e2bb8",
   "metadata": {},
   "outputs": [],
   "source": [
    "#Exercise I Capitalize all the string values in fruits.\n",
    "fruits.str.capitalize()"
   ]
  },
  {
   "cell_type": "code",
   "execution_count": null,
   "id": "0a3efe8e",
   "metadata": {},
   "outputs": [],
   "source": [
    "#Exercise II Count the letter \"a\" in all the string values (use string vectorization).\n",
    "fruits.str.count('a')"
   ]
  },
  {
   "cell_type": "code",
   "execution_count": null,
   "id": "5048fcc4",
   "metadata": {},
   "outputs": [],
   "source": [
    "#Exercise III Output the number of vowels in each and every string value.\n",
    "fruits.apply(mf.count_vowels)"
   ]
  },
  {
   "cell_type": "code",
   "execution_count": null,
   "id": "ab4ea8ea",
   "metadata": {},
   "outputs": [],
   "source": [
    "#Exercise IV Write the code to get the longest string value from fruits.\n",
    "max(fruits, key = len)"
   ]
  },
  {
   "cell_type": "code",
   "execution_count": null,
   "id": "df4b9f3e",
   "metadata": {},
   "outputs": [],
   "source": [
    "#Exercise V Write the code to get the string values with 5 or more letters in the name.\n",
    "fruits[fruits.apply(lambda fruit: len(fruit) > 4)]"
   ]
  },
  {
   "cell_type": "code",
   "execution_count": null,
   "id": "f8685815",
   "metadata": {},
   "outputs": [],
   "source": [
    "#Exercise VI \n",
    "#Use the .apply method with a lambda function to find the fruit(s) containing the letter \"o\" two or more times.\n",
    "fruits[fruits.apply(lambda fruit: fruit.count('o') > 1)]"
   ]
  },
  {
   "cell_type": "code",
   "execution_count": null,
   "id": "9ece160d",
   "metadata": {},
   "outputs": [],
   "source": [
    "#Exercise VII Write the code to get only the string values containing the substring \"berry\".\n",
    "fruits[fruits.str.contains('berry')]"
   ]
  },
  {
   "cell_type": "code",
   "execution_count": null,
   "id": "d5185d05",
   "metadata": {},
   "outputs": [],
   "source": [
    "#Exercise VIII Write the code to get only the string values containing the substring \"apple\".\n",
    "fruits[fruits.str.contains('apple')]"
   ]
  },
  {
   "cell_type": "code",
   "execution_count": null,
   "id": "4b3498db",
   "metadata": {},
   "outputs": [],
   "source": [
    "#Exercise IX Which string value contains the most vowels?\n",
    "max(fruits, key = mf.count_vowels)"
   ]
  },
  {
   "cell_type": "markdown",
   "id": "5e5e521f",
   "metadata": {},
   "source": [
    "# Exercises Part III"
   ]
  },
  {
   "cell_type": "code",
   "execution_count": null,
   "id": "7b327c2b",
   "metadata": {},
   "outputs": [],
   "source": [
    "#A\n",
    "\n",
    "letters = pd.Series(list('hnvidduckkqxwymbimkccexbkmqygkxoyndmcxnwqarhyffsjpsrabtjzsypmzadfavyrnndndvswreauxovncxtwzpwejilzjrmmbbgbyxvjtewqthafnbkqplarokkyydtubbmnexoypulzwfhqvckdpqtpoppzqrmcvhhpwgjwupgzhiofohawytlsiyecuproguy'))"
   ]
  },
  {
   "cell_type": "code",
   "execution_count": null,
   "id": "f5150ee8",
   "metadata": {},
   "outputs": [],
   "source": [
    "#Exercise AI Which letter occurs the most frequently in the letters Series?\n",
    "letters.value_counts().nlargest(n = 1, keep = 'all')"
   ]
  },
  {
   "cell_type": "code",
   "execution_count": null,
   "id": "62e80b1a",
   "metadata": {},
   "outputs": [],
   "source": [
    "#Exercise AII Which letter occurs the Least frequently?\n",
    "letters.value_counts().nsmallest(n = 1, keep = 'all')"
   ]
  },
  {
   "cell_type": "code",
   "execution_count": null,
   "id": "d651bce0",
   "metadata": {},
   "outputs": [],
   "source": [
    "#Exercise AIII How many vowels are in the Series?\n",
    "mf.count_vowels(letters)"
   ]
  },
  {
   "cell_type": "code",
   "execution_count": null,
   "id": "f7b73bd0",
   "metadata": {},
   "outputs": [],
   "source": [
    "#Exercise AIV How many consonants are in the Series?\n",
    "mf.count_consonants(letters)"
   ]
  },
  {
   "cell_type": "code",
   "execution_count": null,
   "id": "f4695719",
   "metadata": {},
   "outputs": [],
   "source": [
    "#Exercise AV Create a Series that has all of the same letters but uppercased.\n",
    "letters.str.upper()"
   ]
  },
  {
   "cell_type": "code",
   "execution_count": null,
   "id": "5f7f7418",
   "metadata": {},
   "outputs": [],
   "source": [
    "#Exercise AVI Create a bar plot of the frequencies of the 6 most commonly occuring letters.\n",
    "letters.value_counts(normalize = True).nlargest(n = 6, keep = 'first').plot.bar(color = 'm',\n",
    "                                                                ec = 'k',\n",
    "                                                               width = .9)\n",
    "plt.xlabel('Alphabetical Frequenter', fontsize = 13, c = 'm')\n",
    "plt.ylabel('Frequency', fontsize = 13, c = 'm')\n",
    "plt.title('Letters Frequency', fontsize = 16, c = 'r')"
   ]
  },
  {
   "cell_type": "code",
   "execution_count": null,
   "id": "97c1c113",
   "metadata": {},
   "outputs": [],
   "source": [
    "#B\n",
    "\n",
    "\n",
    "numbers = pd.Series(['$796,459.41', '$278.60', '$482,571.67', '$4,503,915.98', '$2,121,418.3', '$1,260,813.3', '$87,231.01', '$1,509,175.45', '$4,138,548.00', '$2,848,913.80', '$594,715.39', '$4,789,988.17', '$4,513,644.5', '$3,191,059.97', '$1,758,712.24', '$4,338,283.54', '$4,738,303.38', '$2,791,759.67', '$769,681.94', '$452,650.23'])"
   ]
  },
  {
   "cell_type": "code",
   "execution_count": null,
   "id": "1b3e3482",
   "metadata": {},
   "outputs": [],
   "source": [
    "#Exercise BI What is the data type of the numbers Series?\n",
    "numbers.dtype"
   ]
  },
  {
   "cell_type": "code",
   "execution_count": null,
   "id": "b0ea5984",
   "metadata": {},
   "outputs": [],
   "source": [
    "#Exercise BII How many elements are in the number Series?\n",
    "numbers.size"
   ]
  },
  {
   "cell_type": "code",
   "execution_count": null,
   "id": "76f61aab",
   "metadata": {},
   "outputs": [],
   "source": [
    "#Exercise BIII Perform the necessary manipulations by accessing Series attributes and methods to convert the\n",
    "#numbers Series to a numeric data type.\n",
    "\n",
    "numbers.apply(lambda x: mf.handle_commas(x))"
   ]
  },
  {
   "cell_type": "code",
   "execution_count": null,
   "id": "9708a785",
   "metadata": {},
   "outputs": [],
   "source": [
    "#Exercise BIV Run the code to discover the maximum value from the Series.\n",
    "max(numbers, key = lambda x: mf.handle_commas(x))"
   ]
  },
  {
   "cell_type": "code",
   "execution_count": null,
   "id": "5b404046",
   "metadata": {},
   "outputs": [],
   "source": [
    "#Exercise BV Run the code to discover the minimum value from the Series.\n",
    "min(numbers, key = lambda x: mf.handle_commas(x))"
   ]
  },
  {
   "cell_type": "code",
   "execution_count": null,
   "id": "4d89e7e7",
   "metadata": {},
   "outputs": [],
   "source": [
    "#Exercise BVI What is the range of the values in the Series?\n",
    "range(numbers.size + 1)"
   ]
  },
  {
   "cell_type": "code",
   "execution_count": null,
   "id": "0b895ed3",
   "metadata": {},
   "outputs": [],
   "source": [
    "#Exercise BVII Bin the data into 4 equally sized intervals or bins and output how many values fall into each bin.\n",
    "numbers.apply(lambda x: mf.handle_commas(x)).value_counts(bins = 4).sort_index()"
   ]
  },
  {
   "cell_type": "code",
   "execution_count": null,
   "id": "b77d4d5d",
   "metadata": {},
   "outputs": [],
   "source": [
    "#Exercise BVIII Plot the binned data in a meaningful way. Be sure to include a title and axis labels.\n",
    "plt.figure(figsize = (11, 7))\n",
    "numbers.apply(lambda x: mf.handle_commas(x)).value_counts(bins = 4).sort_index().plot.barh()\n",
    "plt.title('We got bins', fontsize = 38)\n",
    "plt.ylabel('Bin range', fontsize = 27)\n",
    "plt.xlabel('Number of values in Bin', fontsize = 27)\n",
    "plt.yticks(fontsize = 15)\n",
    "plt.xticks(fontsize = 14);"
   ]
  },
  {
   "cell_type": "code",
   "execution_count": null,
   "id": "a666a7e9",
   "metadata": {},
   "outputs": [],
   "source": [
    "#C\n",
    "\n",
    "\n",
    "exam_scores = pd.Series([60, 86, 75, 62, 93, 71, 60, 83, 95, 78, 65, 72, 69, 81, 96, 80, 85, 92, 82, 78])\n",
    "exam_scores"
   ]
  },
  {
   "cell_type": "code",
   "execution_count": null,
   "id": "2084b84f",
   "metadata": {},
   "outputs": [],
   "source": [
    "#Exercise CI How many elements are in the exam_scores Series?\n",
    "exam_scores.size"
   ]
  },
  {
   "cell_type": "code",
   "execution_count": null,
   "id": "92663431",
   "metadata": {},
   "outputs": [],
   "source": [
    "#Exercise CII Run the code to discover the minimum, the maximum, the mean, and the median scores for the\n",
    "#exam_scores Series.\n",
    "if __name__ == '__main__':\n",
    "    print(exam_scores.describe())\n",
    "    print(exam_scores.median())"
   ]
  },
  {
   "cell_type": "code",
   "execution_count": null,
   "id": "07906e7a",
   "metadata": {},
   "outputs": [],
   "source": [
    "exam_scores.sort_values"
   ]
  },
  {
   "cell_type": "code",
   "execution_count": null,
   "id": "dbfaa941",
   "metadata": {},
   "outputs": [],
   "source": [
    "#Exercise CIII Plot the Series in a meaningful way and make sure your chart has a title and axis labels.\n",
    "plt.figure(figsize = (51, 29))\n",
    "exam_scores.plot.barh(color = 'indigo', ec = 'cyan', width = .98)\n",
    "plt.title('Exam Score by #', fontsize = 69)\n",
    "plt.xlabel('Score', fontsize = 44, c = 'indigo')\n",
    "plt.ylabel('Exam #/ Exam Participant #', fontsize = 44, c = 'gray')\n",
    "plt.xticks(range(101), fontsize = 19)\n",
    "plt.yticks(range(21), fontsize = 38);"
   ]
  },
  {
   "cell_type": "code",
   "execution_count": null,
   "id": "04c1c1b7",
   "metadata": {},
   "outputs": [],
   "source": [
    "#Exercise CIV Write the code necessary to implement a curve for your exam_grades Series and save this \n",
    "#as curved_grades. Add the necessary points to the highest grade to make it 100, and add the same number of points\n",
    "#to every other score in the Series as well.\n",
    "\n",
    "curved_grades = exam_scores + 4\n",
    "curved_grades"
   ]
  },
  {
   "cell_type": "code",
   "execution_count": null,
   "id": "93d98355",
   "metadata": {},
   "outputs": [],
   "source": [
    "#Exercise CV Use a method to convert each of the numeric values in the curved_grades Series into a categorical \n",
    "#value of letter grades. For example, 86 should be a 'B' and 95 should be an 'A'. Save this as a Series named \n",
    "#letter_grades.\n",
    "\n",
    "letter_grades = curved_grades.apply(lambda x: mf.get_letter_grade(x))\n",
    "letter_grades"
   ]
  },
  {
   "cell_type": "code",
   "execution_count": null,
   "id": "8595500f",
   "metadata": {},
   "outputs": [],
   "source": [
    "#Exercise CVI Plot your new categorical letter_grades Series in a meaninful way and include a title and axis labels.\n",
    "plt.figure(figsize = (8, 5))\n",
    "letter_grades.value_counts(ascending = True).plot.barh(color = 'purple', ec = 'k', width = .88)\n",
    "plt.title('Letter Grades', fontsize = 16, c = 'indigo')\n",
    "plt.xlabel('Quantity', fontsize = 13, c = 'm')\n",
    "plt.ylabel('Letter Grade', fontsize = 13, c = 'purple')"
   ]
  }
 ],
 "metadata": {
  "kernelspec": {
   "display_name": "Python 3",
   "language": "python",
   "name": "python3"
  },
  "language_info": {
   "codemirror_mode": {
    "name": "ipython",
    "version": 3
   },
   "file_extension": ".py",
   "mimetype": "text/x-python",
   "name": "python",
   "nbconvert_exporter": "python",
   "pygments_lexer": "ipython3",
   "version": "3.8.8"
  }
 },
 "nbformat": 4,
 "nbformat_minor": 5
}
