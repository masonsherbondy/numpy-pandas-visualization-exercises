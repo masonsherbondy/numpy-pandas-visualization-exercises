{
 "cells": [
  {
   "cell_type": "code",
   "execution_count": null,
   "id": "53152a4a",
   "metadata": {},
   "outputs": [],
   "source": [
    "import numpy as np\n",
    "import pandas as pd\n",
    "import mason_functions as mf\n",
    "\n",
    "fruits = ['mango', 'kiwi', 'strawberry', 'guava', 'pineapple', 'mandarin orange']\n",
    "\n",
    "numbers = [2, 3, 4, 5, 6, 7, 8, 9, 10, 11, 13, 17, 19, 23, 256, -8, -4, -2, 5, -9]\n",
    "\n",
    "fruits_s = pd.Series(fruits)\n",
    "numbers_s = pd.Series(numbers)"
   ]
  },
  {
   "cell_type": "code",
   "execution_count": null,
   "id": "f2301dbf",
   "metadata": {},
   "outputs": [],
   "source": [
    "#Exercise 1\n",
    "uppercased_fruits = fruits_s.str.upper()\n",
    "uppercased_fruits"
   ]
  },
  {
   "cell_type": "code",
   "execution_count": null,
   "id": "0ce05df4",
   "metadata": {},
   "outputs": [],
   "source": [
    "#Exercise 2\n",
    "capitalized_fruits = fruits_s.str.capitalize()\n",
    "capitalized_fruits"
   ]
  },
  {
   "cell_type": "code",
   "execution_count": null,
   "id": "8e572bf0",
   "metadata": {},
   "outputs": [],
   "source": [
    "#Exercise 3\n",
    "fruits_with_more_than_two_vowels = fruits_s[fruits_s.apply(lambda x: mf.count_vowels(x) > 2)]\n",
    "fruits_with_more_than_two_vowels"
   ]
  },
  {
   "cell_type": "code",
   "execution_count": null,
   "id": "8bdf8fb6",
   "metadata": {},
   "outputs": [],
   "source": [
    "#Exercise 4\n",
    "fruits_with_only_two_vowels = fruits_s[fruits_s.apply(lambda x: mf.count_vowels(x) == 2)]\n",
    "fruits_with_only_two_vowels"
   ]
  },
  {
   "cell_type": "code",
   "execution_count": null,
   "id": "041e24fb",
   "metadata": {},
   "outputs": [],
   "source": [
    "#Exercise 5\n",
    "fruits_with_more_than_five_characters = fruits_s[fruits_s.apply(lambda fruit: len(fruit) > 5)]\n",
    "fruits_with_more_than_five_characters"
   ]
  },
  {
   "cell_type": "code",
   "execution_count": null,
   "id": "c35184fb",
   "metadata": {},
   "outputs": [],
   "source": [
    "#Exercise 6\n",
    "fruits_with_five_characters = fruits_s[fruits_s.apply(lambda fruit: len(fruit) == 5)]\n",
    "fruits_with_five_characters"
   ]
  },
  {
   "cell_type": "code",
   "execution_count": null,
   "id": "bd35cc76",
   "metadata": {},
   "outputs": [],
   "source": [
    "#Exercise 7\n",
    "fruits_with_less_than_five_characters = fruits_s[fruits_s.apply(lambda fruit: len(fruit) < 5)]\n",
    "fruits_with_less_than_five_characters"
   ]
  },
  {
   "cell_type": "code",
   "execution_count": null,
   "id": "a6ec90fb",
   "metadata": {},
   "outputs": [],
   "source": [
    "#Exercise 8\n",
    "fruits_length = fruits_s.apply(lambda x: mf.count_characters(x))\n",
    "fruits_length"
   ]
  },
  {
   "cell_type": "code",
   "execution_count": null,
   "id": "5db66cdc",
   "metadata": {},
   "outputs": [],
   "source": [
    "#Exercise 9\n",
    "fruits_with_letter_a = fruits_s[fruits_s.str.lower().str.contains('a')]\n",
    "fruits_with_letter_a"
   ]
  },
  {
   "cell_type": "code",
   "execution_count": null,
   "id": "98ebff86",
   "metadata": {},
   "outputs": [],
   "source": [
    "#Exercise 10\n",
    "even_numbers = numbers_s[numbers_s % 2 == 0]\n",
    "even_numbers"
   ]
  },
  {
   "cell_type": "code",
   "execution_count": null,
   "id": "a41aeed8",
   "metadata": {},
   "outputs": [],
   "source": [
    "#Exercise 11\n",
    "odd_numbers = numbers_s[numbers_s % 2 == 1]\n",
    "odd_numbers"
   ]
  },
  {
   "cell_type": "code",
   "execution_count": null,
   "id": "49340daf",
   "metadata": {},
   "outputs": [],
   "source": [
    "#Exercise 12\n",
    "positive_numbers = numbers_s[numbers_s > 0]\n",
    "positive_numbers"
   ]
  },
  {
   "cell_type": "code",
   "execution_count": null,
   "id": "66b7dad8",
   "metadata": {},
   "outputs": [],
   "source": [
    "#Exercise 13\n",
    "negative_numbers = numbers_s[numbers_s < 0]\n",
    "negative_numbers"
   ]
  },
  {
   "cell_type": "code",
   "execution_count": null,
   "id": "2362606d",
   "metadata": {},
   "outputs": [],
   "source": [
    "#Exercise 14\n",
    "more_than_two_numerals = numbers_s[abs(numbers_s) > 9]\n",
    "more_than_two_numerals"
   ]
  },
  {
   "cell_type": "code",
   "execution_count": null,
   "id": "b7e924e6",
   "metadata": {},
   "outputs": [],
   "source": [
    "#Exercise 15\n",
    "numbers_squared = numbers_s * numbers_s\n",
    "numbers_squared"
   ]
  },
  {
   "cell_type": "code",
   "execution_count": null,
   "id": "84773c7d",
   "metadata": {},
   "outputs": [],
   "source": [
    "#Exercise 16\n",
    "odd_negative_numbers = numbers_s[(numbers_s < 0) & (numbers_s % 2 == 1)]\n",
    "odd_negative_numbers"
   ]
  },
  {
   "cell_type": "code",
   "execution_count": null,
   "id": "8cde1b79",
   "metadata": {},
   "outputs": [],
   "source": [
    "#Exercise 17\n",
    "numbers_plus_5 = numbers_s + 5\n",
    "numbers_plus_5"
   ]
  },
  {
   "cell_type": "code",
   "execution_count": null,
   "id": "49d3d20c",
   "metadata": {},
   "outputs": [],
   "source": [
    "#BONUS Make a variable named \"primes\" that is a list containing the prime numbers in the numbers list.\n",
    "#*Hint* you may want to make or find a helper function that determines if a given number is prime or not.\n",
    "import sympy as sp\n",
    "primes_mask = (numbers_s.apply(lambda n: sp.isprime(n)))\n",
    "primes = numbers_s[primes_mask]\n",
    "primes"
   ]
  },
  {
   "cell_type": "code",
   "execution_count": null,
   "id": "c2c64908",
   "metadata": {},
   "outputs": [],
   "source": []
  }
 ],
 "metadata": {
  "kernelspec": {
   "display_name": "Python 3",
   "language": "python",
   "name": "python3"
  },
  "language_info": {
   "codemirror_mode": {
    "name": "ipython",
    "version": 3
   },
   "file_extension": ".py",
   "mimetype": "text/x-python",
   "name": "python",
   "nbconvert_exporter": "python",
   "pygments_lexer": "ipython3",
   "version": "3.8.8"
  }
 },
 "nbformat": 4,
 "nbformat_minor": 5
}
